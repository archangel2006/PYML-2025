{
  "nbformat": 4,
  "nbformat_minor": 0,
  "metadata": {
    "colab": {
      "provenance": [],
      "authorship_tag": "ABX9TyMYLhmolm62s3nvfTGrE79d",
      "include_colab_link": true
    },
    "kernelspec": {
      "name": "python3",
      "display_name": "Python 3"
    },
    "language_info": {
      "name": "python"
    }
  },
  "cells": [
    {
      "cell_type": "markdown",
      "metadata": {
        "id": "view-in-github",
        "colab_type": "text"
      },
      "source": [
        "<a href=\"https://colab.research.google.com/github/archangel2006/PYML-2025/blob/main/PYML2%20(JSON).ipynb\" target=\"_parent\"><img src=\"https://colab.research.google.com/assets/colab-badge.svg\" alt=\"Open In Colab\"/></a>"
      ]
    },
    {
      "cell_type": "markdown",
      "source": [
        "# Loading JSON File"
      ],
      "metadata": {
        "id": "pWVxH79xSoQE"
      }
    },
    {
      "cell_type": "code",
      "source": [
        "import json   #Python's Built-in module for JSON\n",
        "#Load JSON data from file\n",
        "\n",
        "with open('sample1.json','r') as file:   # opening file in read ('r') mode\n",
        "  data=json.load(file)    # loading and storing file content in data\n",
        "\n",
        "print(data) # printng data\n",
        "\n"
      ],
      "metadata": {
        "colab": {
          "base_uri": "https://localhost:8080/"
        },
        "id": "VH0QBwWfSpLi",
        "outputId": "1bc0deff-6df9-456c-fd16-b5376d10f7da"
      },
      "execution_count": null,
      "outputs": [
        {
          "output_type": "stream",
          "name": "stdout",
          "text": [
            "{'name': 'John', 'age': 25, 'city': 'Sampleville', 'married': False, 'hobbies': ['reading', 'traveling', 'programming'], 'address': {'street': '123 Main Street', 'city': 'Sample City', 'postal_code': '12345'}}\n"
          ]
        }
      ]
    },
    {
      "cell_type": "code",
      "source": [
        "print(\"Name:\")"
      ],
      "metadata": {
        "id": "3L0oXi0wUAnc"
      },
      "execution_count": null,
      "outputs": []
    },
    {
      "cell_type": "markdown",
      "source": [
        "# JSON to CSV\n"
      ],
      "metadata": {
        "id": "4ccUD3tgW7Zj"
      }
    },
    {
      "cell_type": "code",
      "source": [
        "import pandas as pd\n",
        "import json\n",
        "\n",
        "with open('sample1.json','r') as file:   # opening file in read ('r') mode\n",
        "  data=json.load(file)    # loading and storing file content in data\n",
        "\n",
        "#Convert to DataFrame\n",
        "df=pd.json_normalize(data) # use json_normalize for nested JSON\n",
        "\n",
        "#Save to CSV\n",
        "df.to_csv('output.csv',index=False)  # not to write row numbers as a seperate column\n",
        "print(\"JSON converted to CSV, saved as 'output.csv'\")\n",
        "\n"
      ],
      "metadata": {
        "colab": {
          "base_uri": "https://localhost:8080/"
        },
        "id": "hm59nSRUUDxT",
        "outputId": "b2649898-b1b6-4711-afed-0d0051836c3a"
      },
      "execution_count": null,
      "outputs": [
        {
          "output_type": "stream",
          "name": "stdout",
          "text": [
            "JSON converted to CSV, saved as 'output.csv'\n"
          ]
        }
      ]
    }
  ]
}